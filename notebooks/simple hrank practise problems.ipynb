{
 "cells": [
  {
   "cell_type": "code",
   "execution_count": 2,
   "id": "36d2cf97-0af7-4492-b60b-cac00560a8dd",
   "metadata": {},
   "outputs": [
    {
     "name": "stdout",
     "output_type": "stream",
     "text": [
      "  1   1   1   1\n",
      "  2   2   2  10\n",
      "  3   3   3  11\n",
      "  4   4   4 100\n",
      "  5   5   5 101\n"
     ]
    }
   ],
   "source": [
    "number = 5\n",
    "def print_formatted(number):\n",
    "    width = len(str(bin(number).split(\"b\")[-1]))\n",
    "    for i in range(1, number+1):\n",
    "        print(str(i).rjust(width), end=\" \")\n",
    "        print(oct(i).split(\"o\")[-1].rjust(width), end=\" \")\n",
    "        print((hex(i).split(\"x\")[-1]).upper().rjust(width), end=\" \")\n",
    "        print((bin(i).split(\"b\")[-1]).rjust(width))\n",
    "\n",
    "print_formatted(number)"
   ]
  },
  {
   "cell_type": "code",
   "execution_count": null,
   "id": "94a65068-7ba1-4439-ba95-408eb56f1c61",
   "metadata": {},
   "outputs": [],
   "source": []
  }
 ],
 "metadata": {
  "kernelspec": {
   "display_name": "Python 3 (ipykernel)",
   "language": "python",
   "name": "python3"
  },
  "language_info": {
   "codemirror_mode": {
    "name": "ipython",
    "version": 3
   },
   "file_extension": ".py",
   "mimetype": "text/x-python",
   "name": "python",
   "nbconvert_exporter": "python",
   "pygments_lexer": "ipython3",
   "version": "3.11.6"
  }
 },
 "nbformat": 4,
 "nbformat_minor": 5
}
